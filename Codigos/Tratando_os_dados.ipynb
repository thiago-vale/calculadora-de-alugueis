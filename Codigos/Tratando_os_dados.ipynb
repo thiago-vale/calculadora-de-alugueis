{
 "cells": [
  {
   "cell_type": "code",
   "execution_count": 1,
   "metadata": {},
   "outputs": [],
   "source": [
    "import pandas as pd\n",
    "import numpy as np"
   ]
  },
  {
   "cell_type": "code",
   "execution_count": 2,
   "metadata": {},
   "outputs": [],
   "source": [
    "df = pd.read_csv('C:/Users/Thiago/Desktop/Potifolio/Projeto calculadora de imoveis/Data Sets/todos_os_resultados.csv')"
   ]
  },
  {
   "cell_type": "code",
   "execution_count": 3,
   "metadata": {},
   "outputs": [
    {
     "data": {
      "text/plain": [
       "10"
      ]
     },
     "execution_count": 3,
     "metadata": {},
     "output_type": "execute_result"
    }
   ],
   "source": [
    "sum(df.duplicated())"
   ]
  },
  {
   "cell_type": "code",
   "execution_count": 4,
   "metadata": {},
   "outputs": [],
   "source": [
    "df = df.drop_duplicates(keep=\"first\", subset=[coluna for coluna in df.columns if coluna!=\"crawled_at\"]).reset_index(drop=True)"
   ]
  },
  {
   "cell_type": "code",
   "execution_count": 5,
   "metadata": {},
   "outputs": [
    {
     "data": {
      "text/plain": [
       "(6946, 13)"
      ]
     },
     "execution_count": 5,
     "metadata": {},
     "output_type": "execute_result"
    }
   ],
   "source": [
    "df.shape"
   ]
  },
  {
   "cell_type": "code",
   "execution_count": 6,
   "metadata": {},
   "outputs": [],
   "source": [
    "filtro_de_anuncios = [str(_id).isnumeric() for _id in df[\"id\"]]"
   ]
  },
  {
   "cell_type": "code",
   "execution_count": 7,
   "metadata": {},
   "outputs": [],
   "source": [
    "df = df[filtro_de_anuncios].reset_index(drop=True)"
   ]
  },
  {
   "cell_type": "code",
   "execution_count": 8,
   "metadata": {},
   "outputs": [
    {
     "data": {
      "text/plain": [
       "(6946, 13)"
      ]
     },
     "execution_count": 8,
     "metadata": {},
     "output_type": "execute_result"
    }
   ],
   "source": [
    "df.shape"
   ]
  },
  {
   "cell_type": "code",
   "execution_count": 9,
   "metadata": {},
   "outputs": [
    {
     "data": {
      "text/plain": [
       "{'1 Quarto',\n",
       " '2 Quartos',\n",
       " '3 Quartos',\n",
       " '4 Quartos',\n",
       " '5 Quartos',\n",
       " '6 Quartos',\n",
       " '7 Quartos',\n",
       " '9 Quartos'}"
      ]
     },
     "execution_count": 9,
     "metadata": {},
     "output_type": "execute_result"
    }
   ],
   "source": [
    "set(df[\"rooms\"])"
   ]
  },
  {
   "cell_type": "code",
   "execution_count": 10,
   "metadata": {},
   "outputs": [
    {
     "data": {
      "text/plain": [
       "{'1', '2', '3', '4', '5', '6', '7', '9'}"
      ]
     },
     "execution_count": 10,
     "metadata": {},
     "output_type": "execute_result"
    }
   ],
   "source": [
    "set(df[\"rooms\"].str.split(\" \").str[0].str.replace(\"--\" , \"0\"))"
   ]
  },
  {
   "cell_type": "code",
   "execution_count": 11,
   "metadata": {},
   "outputs": [],
   "source": [
    "df[\"Quarto\"] = (df[\"rooms\"]\n",
    "                     .str.split(\" \")\n",
    "                     .str[0]\n",
    "                     .str.replace(\"--\",\"0\")\n",
    "                     .astype(int))"
   ]
  },
  {
   "cell_type": "code",
   "execution_count": 12,
   "metadata": {},
   "outputs": [],
   "source": [
    "df[\"Banheiro\"] = (df[\"bathrooms\"]\n",
    "                         .str.split(\" \")\n",
    "                         .str[0]\n",
    "                         .str.replace(\"--\",\"0\")\n",
    "                         .astype(int))"
   ]
  },
  {
   "cell_type": "code",
   "execution_count": 13,
   "metadata": {},
   "outputs": [],
   "source": [
    "df[\"Garagem\"] = (df[\"garages\"]\n",
    "                       .str.split(\" \")\n",
    "                       .str[0]\n",
    "                       .str.replace(\"--\",\"0\")\n",
    "                       .astype(int))"
   ]
  },
  {
   "cell_type": "code",
   "execution_count": 14,
   "metadata": {},
   "outputs": [],
   "source": [
    "df[\"condo\"] = df[\"condo\"].fillna(\"MISSING\")"
   ]
  },
  {
   "cell_type": "code",
   "execution_count": 15,
   "metadata": {},
   "outputs": [],
   "source": [
    "df[\"condominio\"] = [int(w.split(\"R$ \")[1].replace(\".\",\"\")) if w!=\"MISSING\" else np.nan for w in df[\"condo\"]]"
   ]
  },
  {
   "cell_type": "code",
   "execution_count": 16,
   "metadata": {},
   "outputs": [],
   "source": [
    "#df[\"price_limpo\"] = [int(w.split(\"R$ \")[1].split(\" /mês\")[0].split(\" /dia\")[0].replace(\".\",\"\")) for w in df[\"price\"]]\n",
    "df[\"preço\"] = [int(w.split(\"R$ \")[1].split(\" /\")[0].replace(\".\",\"\")) for w in df[\"price\"]]"
   ]
  },
  {
   "cell_type": "code",
   "execution_count": 17,
   "metadata": {},
   "outputs": [],
   "source": [
    "df[\"area_limpo\"] = df[\"area\"].astype(int)"
   ]
  },
  {
   "cell_type": "code",
   "execution_count": 18,
   "metadata": {},
   "outputs": [],
   "source": [
    "df[\"crawled_at\"] = pd.to_datetime(df[\"crawled_at\"], format=\"%Y-%m-%d %H:%M\")"
   ]
  },
  {
   "cell_type": "code",
   "execution_count": 19,
   "metadata": {},
   "outputs": [],
   "source": [
    "df = df.drop(columns = [\"area\", \"rooms\", \"bathrooms\", \"garages\", \"price\", \"condo\"])"
   ]
  },
  {
   "cell_type": "code",
   "execution_count": 20,
   "metadata": {},
   "outputs": [],
   "source": [
    "df[\"bairro\"] = (df[\"address\"]\n",
    "                      .str.split(\"- \")\n",
    "                      .str[1]\n",
    "                      .str.split(\",\")\n",
    "                      .str[0])"
   ]
  },
  {
   "cell_type": "code",
   "execution_count": 21,
   "metadata": {},
   "outputs": [],
   "source": [
    "df.loc[df[\"bairro\"].isin([\"RJ\"]), \"bairro\"] = (df\n",
    "                                                     .loc[df[\"bairro\"].isin([\"RJ\"]), \"address\"]\n",
    "                                                     .str.split(\",\").str[0])"
   ]
  },
  {
   "cell_type": "code",
   "execution_count": 22,
   "metadata": {},
   "outputs": [
    {
     "data": {
      "text/plain": [
       "array(['Méier', 'Recreio Dos Bandeirantes', 'Barra da Tijuca'],\n",
       "      dtype=object)"
      ]
     },
     "execution_count": 22,
     "metadata": {},
     "output_type": "execute_result"
    }
   ],
   "source": [
    "df.loc[df[\"crawler\"]!=df[\"bairro\"],\"bairro\"].unique()"
   ]
  },
  {
   "cell_type": "code",
   "execution_count": 23,
   "metadata": {},
   "outputs": [],
   "source": [
    "df[\"crawler\"] = (df[\"crawler\"]\n",
    "                 .str.lower()\n",
    "                 .str.replace(\" \",\"_\"))"
   ]
  },
  {
   "cell_type": "code",
   "execution_count": 24,
   "metadata": {},
   "outputs": [],
   "source": [
    "df[\"bairro\"] = (df[\"bairro\"]\n",
    "                      .str.lower()\n",
    "                      .str.replace(\" \",\"_\")\n",
    "                      .str.normalize(\"NFKD\")\n",
    "                      .str.encode(\"ascii\", errors=\"ignore\")\n",
    "                      .str.decode(\"utf-8\"))"
   ]
  },
  {
   "cell_type": "code",
   "execution_count": 25,
   "metadata": {},
   "outputs": [
    {
     "data": {
      "text/html": [
       "<div>\n",
       "<style scoped>\n",
       "    .dataframe tbody tr th:only-of-type {\n",
       "        vertical-align: middle;\n",
       "    }\n",
       "\n",
       "    .dataframe tbody tr th {\n",
       "        vertical-align: top;\n",
       "    }\n",
       "\n",
       "    .dataframe thead th {\n",
       "        text-align: right;\n",
       "    }\n",
       "</style>\n",
       "<table border=\"1\" class=\"dataframe\">\n",
       "  <thead>\n",
       "    <tr style=\"text-align: right;\">\n",
       "      <th></th>\n",
       "      <th>crawler</th>\n",
       "      <th>bairro</th>\n",
       "    </tr>\n",
       "  </thead>\n",
       "  <tbody>\n",
       "    <tr>\n",
       "      <th>5437</th>\n",
       "      <td>recreio</td>\n",
       "      <td>recreio_dos_bandeirantes</td>\n",
       "    </tr>\n",
       "    <tr>\n",
       "      <th>5438</th>\n",
       "      <td>recreio</td>\n",
       "      <td>recreio_dos_bandeirantes</td>\n",
       "    </tr>\n",
       "    <tr>\n",
       "      <th>5439</th>\n",
       "      <td>recreio</td>\n",
       "      <td>recreio_dos_bandeirantes</td>\n",
       "    </tr>\n",
       "    <tr>\n",
       "      <th>5440</th>\n",
       "      <td>recreio</td>\n",
       "      <td>recreio_dos_bandeirantes</td>\n",
       "    </tr>\n",
       "    <tr>\n",
       "      <th>5441</th>\n",
       "      <td>recreio</td>\n",
       "      <td>recreio_dos_bandeirantes</td>\n",
       "    </tr>\n",
       "    <tr>\n",
       "      <th>...</th>\n",
       "      <td>...</td>\n",
       "      <td>...</td>\n",
       "    </tr>\n",
       "    <tr>\n",
       "      <th>6941</th>\n",
       "      <td>barra</td>\n",
       "      <td>barra_da_tijuca</td>\n",
       "    </tr>\n",
       "    <tr>\n",
       "      <th>6942</th>\n",
       "      <td>barra</td>\n",
       "      <td>barra_da_tijuca</td>\n",
       "    </tr>\n",
       "    <tr>\n",
       "      <th>6943</th>\n",
       "      <td>barra</td>\n",
       "      <td>barra_da_tijuca</td>\n",
       "    </tr>\n",
       "    <tr>\n",
       "      <th>6944</th>\n",
       "      <td>barra</td>\n",
       "      <td>barra_da_tijuca</td>\n",
       "    </tr>\n",
       "    <tr>\n",
       "      <th>6945</th>\n",
       "      <td>barra</td>\n",
       "      <td>barra_da_tijuca</td>\n",
       "    </tr>\n",
       "  </tbody>\n",
       "</table>\n",
       "<p>1210 rows × 2 columns</p>\n",
       "</div>"
      ],
      "text/plain": [
       "      crawler                    bairro\n",
       "5437  recreio  recreio_dos_bandeirantes\n",
       "5438  recreio  recreio_dos_bandeirantes\n",
       "5439  recreio  recreio_dos_bandeirantes\n",
       "5440  recreio  recreio_dos_bandeirantes\n",
       "5441  recreio  recreio_dos_bandeirantes\n",
       "...       ...                       ...\n",
       "6941    barra           barra_da_tijuca\n",
       "6942    barra           barra_da_tijuca\n",
       "6943    barra           barra_da_tijuca\n",
       "6944    barra           barra_da_tijuca\n",
       "6945    barra           barra_da_tijuca\n",
       "\n",
       "[1210 rows x 2 columns]"
      ]
     },
     "execution_count": 25,
     "metadata": {},
     "output_type": "execute_result"
    }
   ],
   "source": [
    "df.loc[df[\"crawler\"]!=df[\"bairro\"], [\"crawler\",\"bairro\"]]"
   ]
  },
  {
   "cell_type": "code",
   "execution_count": 26,
   "metadata": {},
   "outputs": [],
   "source": [
    "df = df.drop(columns=\"bairro\")"
   ]
  },
  {
   "cell_type": "code",
   "execution_count": 27,
   "metadata": {},
   "outputs": [
    {
     "data": {
      "text/plain": [
       "0       Elevador\\nPlayground\\nAceita animais\\nSalão de...\n",
       "1        Piscina\\nVaranda\\nAcademia\\nElevador\\nPlayground\n",
       "2       Varanda\\nAcademia\\nInterfone\\nSalão de jogos\\n...\n",
       "3       Churrasqueira\\nElevador\\nCondomínio fechado\\nP...\n",
       "4       Piscina\\nChurrasqueira\\nElevador\\nAcademia\\nVa...\n",
       "                              ...                        \n",
       "6941                                                  NaN\n",
       "6942                                                  NaN\n",
       "6943                                                  NaN\n",
       "6944                                                  NaN\n",
       "6945    Piscina\\nAcademia\\nChurrasqueira\\nElevador\\nPl...\n",
       "Name: amenities, Length: 6946, dtype: object"
      ]
     },
     "execution_count": 27,
     "metadata": {},
     "output_type": "execute_result"
    }
   ],
   "source": [
    "df[\"amenities\"]"
   ]
  },
  {
   "cell_type": "code",
   "execution_count": 28,
   "metadata": {},
   "outputs": [],
   "source": [
    "df[\"amenities\"] = df[\"amenities\"].str.split(\"\\n\")"
   ]
  },
  {
   "cell_type": "code",
   "execution_count": 29,
   "metadata": {},
   "outputs": [],
   "source": [
    "df[\"amenities\"] = df[\"amenities\"].fillna(\"\")"
   ]
  },
  {
   "cell_type": "code",
   "execution_count": 30,
   "metadata": {},
   "outputs": [],
   "source": [
    "amenities = []\n",
    "for am in df[\"amenities\"]:\n",
    "    if am != \"\":\n",
    "        amenities = amenities + am"
   ]
  },
  {
   "cell_type": "code",
   "execution_count": 31,
   "metadata": {},
   "outputs": [],
   "source": [
    "unico_amenities = list(set(amenities))"
   ]
  },
  {
   "cell_type": "code",
   "execution_count": 32,
   "metadata": {},
   "outputs": [],
   "source": [
    "df[\"amenities\"] = df[\"amenities\"].str.join(\", \")"
   ]
  },
  {
   "cell_type": "code",
   "execution_count": 33,
   "metadata": {},
   "outputs": [
    {
     "name": "stdout",
     "output_type": "stream",
     "text": [
      "Vista exterior\n",
      "Cabeamento estruturado\n",
      "Circuito de segurança\n",
      "Quadra poliesportiva\n",
      "Espaço gourmet\n",
      "Portaria 24h\n",
      "Porcelanato\n",
      "Ar-condicionado\n",
      "Varanda\n",
      "Acesso para deficientes\n",
      "Piscina infantil\n",
      "Gás Encanado\n",
      "Fogão\n",
      "Cozinha grande\n",
      "Sala grande\n",
      "Quintal\n",
      "Salão de jogos\n",
      "Janela grande\n",
      "Isolamento térmico\n",
      "Conexão à internet\n",
      "Sala de jantar\n",
      "Vigia\n",
      "Copa\n",
      "Janela de alumínio\n",
      "Mobiliado\n",
      "Spa\n",
      "Bicicletário\n",
      "Próximo a transporte público\n",
      "Vista para lago\n",
      "Ambientes integrados\n",
      "Próximo a hospitais\n",
      "Portão eletrônico\n",
      "Sala de massagem\n",
      "Mais de um andar\n",
      "Armário embutido no quarto\n",
      "Piso laminado\n",
      "Espaço teen\n",
      "Condomínio fechado\n",
      "Interfone\n",
      "Área de serviço\n",
      "Cozinha\n",
      "Churrasqueira\n",
      "Perto de vias de acesso\n",
      "Móvel planejado\n",
      "Hall de entrada\n",
      "Espaço verde / Parque\n",
      "Vista para a montanha\n",
      "Área de lazer\n",
      "Escritório\n",
      "Salão de festas\n",
      "Quadra de tênis\n",
      "Churrasqueira na varanda\n",
      "Jardim\n",
      "Depósito\n",
      "Cozinha americana\n",
      "Vista para o mar\n",
      "Piscina para adulto\n",
      "Recepção\n",
      "Elevador\n",
      "Próximo a shopping\n",
      "Piso de madeira\n",
      "Sauna\n",
      "Andar inteiro\n",
      "Armário na cozinha\n",
      "Pista de cooper\n",
      "Piscina\n",
      "Closet\n",
      "Armário embutido\n",
      "Aceita animais\n",
      "Aquecimento\n",
      "TV a cabo\n",
      "Box blindex\n",
      "Varanda gourmet\n",
      "Próximo a escola\n",
      "Lavanderia\n",
      "Segurança 24h\n",
      "Gerador elétrico\n",
      "Playground\n",
      "Despensa\n",
      "Academia\n",
      "Estacionamento para visitantes\n",
      "Lavabo\n",
      "Gesso - Sanca - Teto Rebaixado\n",
      "Sistema de alarme\n",
      "Garagem\n"
     ]
    }
   ],
   "source": [
    "for amenity in unico_amenities:\n",
    "    print(amenity)\n",
    "    df[amenity]=0\n",
    "    df.loc[df[\"amenities\"].str.contains(amenity), amenity] = 1"
   ]
  },
  {
   "cell_type": "code",
   "execution_count": 36,
   "metadata": {},
   "outputs": [],
   "source": [
    "df.to_csv(\"C:/Users/Thiago/Desktop/Potifolio/Projeto calculadora de imoveis/Data Sets/aptos_csv.csv\", index=False)"
   ]
  }
 ],
 "metadata": {
  "kernelspec": {
   "display_name": "Python 3",
   "language": "python",
   "name": "python3"
  },
  "language_info": {
   "codemirror_mode": {
    "name": "ipython",
    "version": 3
   },
   "file_extension": ".py",
   "mimetype": "text/x-python",
   "name": "python",
   "nbconvert_exporter": "python",
   "pygments_lexer": "ipython3",
   "version": "3.8.5"
  }
 },
 "nbformat": 4,
 "nbformat_minor": 4
}
